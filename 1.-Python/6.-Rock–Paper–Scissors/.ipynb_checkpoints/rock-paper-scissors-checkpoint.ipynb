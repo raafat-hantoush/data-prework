{
 "cells": [
  {
   "cell_type": "markdown",
   "metadata": {},
   "source": [
    "<img src=\"https://bit.ly/2VnXWr2\" width=\"100\" align=\"left\">"
   ]
  },
  {
   "cell_type": "markdown",
   "metadata": {},
   "source": [
    "# Rock, Paper & Scissors\n",
    "\n",
    "Let's play the famous game against our computer. You can check the rules [here](https://en.wikipedia.org/wiki/Rock%E2%80%93paper%E2%80%93scissors). \n",
    "\n",
    "## Task\n",
    "Create a program that imitates the playability of the well known game of rock, paper, scissors. Follow the guidelines provided.\n",
    "\n",
    "## Tools\n",
    "1. Loop: **for/while**\n",
    "2. Functions: **input(), print()...**\n",
    "3. Conditional statements: **if, elif, else**\n",
    "4. Definition of functions. Modular programming\n",
    "5. Import modules\n",
    "\n",
    "**To solve this challenge, the use of functions is recommended.**\n",
    "\n",
    "#### 1. Import the choice function of the random module."
   ]
  },
  {
   "cell_type": "code",
   "execution_count": 3,
   "metadata": {},
   "outputs": [],
   "source": [
    "from random import choice"
   ]
  },
  {
   "cell_type": "markdown",
   "metadata": {},
   "source": [
    "#### 2. Create a list that includes the 3 possible gesture options of the game: 'rock', 'paper' or 'scissors'. Store the list in a variable called `gestures`."
   ]
  },
  {
   "cell_type": "code",
   "execution_count": 4,
   "metadata": {},
   "outputs": [
    {
     "data": {
      "text/plain": [
       "['rock', 'paper', 'scissors']"
      ]
     },
     "execution_count": 4,
     "metadata": {},
     "output_type": "execute_result"
    }
   ],
   "source": [
    "gestures=['rock','paper','scissors']\n",
    "gestures"
   ]
  },
  {
   "cell_type": "markdown",
   "metadata": {},
   "source": [
    "#### 3. Create a variable called `n_rounds` to store the maximum number of rounds to play in a game. \n",
    "Remember that the number of rounds must be odd: 1, 3, 5, ..."
   ]
  },
  {
   "cell_type": "code",
   "execution_count": 119,
   "metadata": {},
   "outputs": [],
   "source": [
    "n_rounds=0"
   ]
  },
  {
   "cell_type": "markdown",
   "metadata": {},
   "source": [
    "#### 4. Create a variable called `rounds_to_win` to store the number of rounds that a player must win to win the game.\n",
    "**Hint**: the value stored in `rounds_to_win` depends on the value of `n_rounds`. "
   ]
  },
  {
   "cell_type": "code",
   "execution_count": 120,
   "metadata": {},
   "outputs": [],
   "source": [
    "rounds_to_win=1"
   ]
  },
  {
   "cell_type": "markdown",
   "metadata": {},
   "source": [
    "#### 5. Create two variables to store the number of rounds that the computer and the player have won. Call these variables `cpu_score` and `player_score`."
   ]
  },
  {
   "cell_type": "code",
   "execution_count": 121,
   "metadata": {},
   "outputs": [],
   "source": [
    "cpu_score, player_score = 0,0"
   ]
  },
  {
   "cell_type": "markdown",
   "metadata": {},
   "source": [
    "#### 6. Define a function that randomly returns one of the 3 gesture options.\n",
    "You will use this function to simulate the gesture choice of the computer. "
   ]
  },
  {
   "cell_type": "code",
   "execution_count": 122,
   "metadata": {},
   "outputs": [],
   "source": [
    "def cpu_choice():\n",
    "    return choice(gestures)"
   ]
  },
  {
   "cell_type": "markdown",
   "metadata": {},
   "source": [
    "#### 7. Define a function that asks the player which is the gesture he or she wants to show: 'rock', 'paper' or 'scissors'.\n",
    "The player should only be allowed to choose one of the 3 gesture options. If the player's choice is not rock, paper or scissors, keep asking until it is."
   ]
  },
  {
   "cell_type": "code",
   "execution_count": 123,
   "metadata": {},
   "outputs": [],
   "source": [
    "def player_choice():\n",
    "    print(\"\\nplease enter one of the choices:\",gestures)\n",
    "    while(True):\n",
    "        player_input=input()\n",
    "        if player_input in gestures: break\n",
    "    return player_input"
   ]
  },
  {
   "cell_type": "markdown",
   "metadata": {},
   "source": [
    "#### 8. Define a function that checks who won a round. \n",
    "The function should return 0 if there is a tie, 1 if the computer wins and 2 if the player wins."
   ]
  },
  {
   "cell_type": "code",
   "execution_count": 124,
   "metadata": {},
   "outputs": [],
   "source": [
    "def winner(cpu_choice, player_choice):\n",
    "    if(cpu_choice==player_choice): return 0 \n",
    "    elif cpu_choice=='rock':\n",
    "        if(player_choice=='scissors'): return 1\n",
    "        else: return 2 ##. player wins when player choice is paper\n",
    "    elif cpu_choice=='scissors':\n",
    "        if(player_choice== 'rock'): return 2\n",
    "        else: return 1 ##. computer wins when player is paper\n",
    "    else: ##. computer choice is paper\n",
    "        if(player_choice=='scissors'): return 2\n",
    "        else: return 1 ##. computer wins when player is rock"
   ]
  },
  {
   "cell_type": "code",
   "execution_count": 125,
   "metadata": {},
   "outputs": [
    {
     "data": {
      "text/plain": [
       "1"
      ]
     },
     "execution_count": 125,
     "metadata": {},
     "output_type": "execute_result"
    }
   ],
   "source": [
    "winner('paper','rock')"
   ]
  },
  {
   "cell_type": "markdown",
   "metadata": {},
   "source": [
    "#### 9. Define a function that prints the choice of the computer, the choice of the player and a message that announces who won the current round. \n",
    "You should also use this function to update the variables that count the number of rounds that the computer and the player have won. The score of the winner increases by one point. If there is a tie, the score does not increase."
   ]
  },
  {
   "cell_type": "code",
   "execution_count": 126,
   "metadata": {},
   "outputs": [],
   "source": [
    "def round_results():\n",
    "    ## ask for the player_input\n",
    "    p_choice=player_choice()\n",
    "    print(\"\\nplayer choice is\",p_choice)\n",
    "\n",
    "    ## generate cpu_choice\n",
    "    cp_choice=cpu_choice()\n",
    "    print(\"Computer choice is\",cp_choice)\n",
    "    winning_round=winner(cp_choice,p_choice)\n",
    "    \n",
    "    ## determine the winner\n",
    "    print(\"The winner is \",winning_round)\n",
    "    global n_rounds, player_score,cpu_score\n",
    "    n_rounds=n_rounds+1\n",
    "    if winning_round==1: cpu_score = cpu_score + 1\n",
    "    if winning_round==2: player_score=player_score+1\n",
    "    ##print(n_rounds)"
   ]
  },
  {
   "cell_type": "code",
   "execution_count": 78,
   "metadata": {},
   "outputs": [
    {
     "name": "stdout",
     "output_type": "stream",
     "text": [
      "rock, paper or scissors?\n",
      "rock\n",
      "\n",
      "player choice is rock\n",
      "Computer choice is scissors\n",
      "\n",
      "The winner is  2\n"
     ]
    }
   ],
   "source": [
    "round_results()"
   ]
  },
  {
   "cell_type": "markdown",
   "metadata": {},
   "source": [
    "#### 10. Now it's time to code the execution of the game using the functions and variables you defined above. \n",
    "\n",
    "First, create a loop structure that repeats while no player reaches the minimum score necessary to win and the number of rounds is less than the maximum number of rounds to play in a game.  \n",
    "\n",
    "Inside the loop, use the functions and variables above to create the execution of a round: ask for the player's choice, generate the random choice of the computer, show the round results, update the scores, etc. "
   ]
  },
  {
   "cell_type": "code",
   "execution_count": 79,
   "metadata": {},
   "outputs": [
    {
     "name": "stdout",
     "output_type": "stream",
     "text": [
      "rock, paper or scissors?\n",
      "rock\n",
      "\n",
      "player choice is rock\n",
      "Computer choice is rock\n",
      "\n",
      "The winner is  0\n",
      "rock, paper or scissors?\n",
      "rock\n",
      "\n",
      "player choice is rock\n",
      "Computer choice is paper\n",
      "\n",
      "The winner is  1\n",
      "rock, paper or scissors?\n",
      "rock\n",
      "\n",
      "player choice is rock\n",
      "Computer choice is paper\n",
      "\n",
      "The winner is  1\n",
      "rock, paper or scissors?\n",
      "rock\n",
      "\n",
      "player choice is rock\n",
      "Computer choice is rock\n",
      "\n",
      "The winner is  0\n",
      "rock, paper or scissors?\n",
      "rock\n",
      "\n",
      "player choice is rock\n",
      "Computer choice is scissors\n",
      "\n",
      "The winner is  2\n",
      "rock, paper or scissors?\n",
      "rock\n",
      "\n",
      "player choice is rock\n",
      "Computer choice is rock\n",
      "\n",
      "The winner is  0\n",
      "rock, paper or scissors?\n",
      "rock\n",
      "\n",
      "player choice is rock\n",
      "Computer choice is scissors\n",
      "\n",
      "The winner is  2\n"
     ]
    }
   ],
   "source": [
    "## reitnitialize variables\n",
    "n_rounds=0\n",
    "cpu_score, player_score = 0,0\n",
    "rounds_to_win=3\n",
    "\n",
    "while(cpu_score<rounds_to_win and player_score<rounds_to_win and n_rounds<7):\n",
    "    round_results()"
   ]
  },
  {
   "cell_type": "markdown",
   "metadata": {},
   "source": [
    "#### 11. Print the winner of the game based on who won more rounds.\n",
    "Remember that the game might be tied. "
   ]
  },
  {
   "cell_type": "code",
   "execution_count": 127,
   "metadata": {},
   "outputs": [],
   "source": [
    "def winner_announcement():\n",
    "    if(cpu_score> player_score): print(\"\\n And the winner is.... the Computer!\")\n",
    "    elif(cpu_score< player_score): print(\"\\nAnd the winner is.... the player!\")\n",
    "    else: print(\"\\nThe game is a Tie!\")\n",
    "    return"
   ]
  },
  {
   "cell_type": "code",
   "execution_count": 128,
   "metadata": {},
   "outputs": [
    {
     "name": "stdout",
     "output_type": "stream",
     "text": [
      "\n",
      "The game is a Tie!\n"
     ]
    }
   ],
   "source": [
    "winner_announcement()"
   ]
  },
  {
   "cell_type": "markdown",
   "metadata": {},
   "source": [
    "# Bonus: Rock, Paper, Scissors, Lizard & Spock\n",
    "![](images/rpsls.jpg)\n",
    "\n",
    "In this challenge, you need to improve the previous game by adding two new options. To know more about the rules of the improved version of rock, paper, scissors, check this [link](http://www.samkass.com/theories/RPSSL.html). \n",
    "\n",
    "In addition, you will also need to improve how the game interacts with the player: the number of rounds to play, which must be an odd number, will be requested to the user until a valid number is entered. Define a new function to make that request.\n",
    "\n",
    "**Hint**: Try to reuse the code that you already coded in the previous challenge. If your code is efficient, this bonus will only consist of simple modifications to the original game."
   ]
  },
  {
   "cell_type": "code",
   "execution_count": 129,
   "metadata": {},
   "outputs": [],
   "source": [
    "## function to ask the user to enter the number of rounds and to make sure the number is valid and Odd number.\n",
    "def input_rounds_to_play():\n",
    "    ##print(\"Please Input the number of rounds to play. Make sure it is an odd number!\")\n",
    "    while(True):\n",
    "        try:\n",
    "            user_input=input(\"Please Input the number of rounds to play. Make sure it is an odd number!\")\n",
    "            if (int(user_input) % 2) != 0: break \n",
    "        except ValueError:\n",
    "            print(\"Oops!  That was no valid number.  Try again...\")    \n",
    "    return int(user_input)"
   ]
  },
  {
   "cell_type": "code",
   "execution_count": 131,
   "metadata": {},
   "outputs": [
    {
     "name": "stdout",
     "output_type": "stream",
     "text": [
      "Please Input the number of rounds to play. Make sure it is an odd number!1\n"
     ]
    },
    {
     "data": {
      "text/plain": [
       "1"
      ]
     },
     "execution_count": 131,
     "metadata": {},
     "output_type": "execute_result"
    }
   ],
   "source": [
    "input_rounds_to_play()"
   ]
  },
  {
   "cell_type": "code",
   "execution_count": 132,
   "metadata": {},
   "outputs": [],
   "source": [
    "## winner function version for rock,paper,scisoors, spock,lizard \n",
    "def winner_improved_version(cpu_choice, player_choice):\n",
    "    if(cpu_choice==player_choice): return 0 \n",
    "    elif cpu_choice=='rock':\n",
    "        if(player_choice in ['scissors','lizard'] ): return 1\n",
    "        else: return 2 ##. player wins when player choice is paper or spock\n",
    "    elif cpu_choice=='scissors':\n",
    "        if(player_choice in  ['rock','spock']): return 2\n",
    "        else: return 1 ##. computer wins when player is paper or lizard\n",
    "    elif cpu_choice=='lizard':\n",
    "        if(player_choice in  ['rock','scissors']): return 2\n",
    "        else: return 1 ##. computer wins when player is paper or spock\n",
    "    elif cpu_choice=='spock':\n",
    "        if(player_choice in  ['paper','lizards']): return 2\n",
    "        else: return 1 ##. computer wins when player is rock or scissors\n",
    "    else: ##. computer choice is paper\n",
    "        if(player_choice in ['lizard','scissors']): return 2\n",
    "        else: return 1 ##. computer wins when player is rock or spock"
   ]
  },
  {
   "cell_type": "code",
   "execution_count": 133,
   "metadata": {},
   "outputs": [
    {
     "name": "stdout",
     "output_type": "stream",
     "text": [
      "Please Input the number of rounds to play. Make sure it is an odd number!5\n",
      "\n",
      "please enter one of the choices: ['rock', 'paper', 'scissors', 'lizard', 'spock']\n",
      "rock\n",
      "\n",
      "player choice is rock\n",
      "Computer choice is lizard\n",
      "The winner is  1\n",
      "\n",
      "please enter one of the choices: ['rock', 'paper', 'scissors', 'lizard', 'spock']\n",
      "rock\n",
      "\n",
      "player choice is rock\n",
      "Computer choice is paper\n",
      "The winner is  1\n",
      "\n",
      "please enter one of the choices: ['rock', 'paper', 'scissors', 'lizard', 'spock']\n",
      "rock\n",
      "\n",
      "player choice is rock\n",
      "Computer choice is spock\n",
      "The winner is  1\n",
      "\n",
      " And the winner is.... the Computer!\n"
     ]
    }
   ],
   "source": [
    "## update the gestures list\n",
    "gestures=['rock','paper','scissors','lizard','spock']\n",
    "\n",
    "## intitilaize variables\n",
    "n_rounds=0\n",
    "cpu_score, player_score = 0,0\n",
    "rounds_to_win=3\n",
    "\n",
    "## ask the user too input the number of rounds\n",
    "rounds_to_play=input_rounds_to_play()\n",
    "\n",
    "while(cpu_score<rounds_to_win and player_score<rounds_to_win and n_rounds<rounds_to_play):\n",
    "    round_results()\n",
    "    \n",
    "##Announcing the winner\n",
    "winner_announcement()"
   ]
  },
  {
   "cell_type": "code",
   "execution_count": null,
   "metadata": {},
   "outputs": [],
   "source": []
  }
 ],
 "metadata": {
  "kernelspec": {
   "display_name": "Python 3",
   "language": "python",
   "name": "python3"
  },
  "language_info": {
   "codemirror_mode": {
    "name": "ipython",
    "version": 3
   },
   "file_extension": ".py",
   "mimetype": "text/x-python",
   "name": "python",
   "nbconvert_exporter": "python",
   "pygments_lexer": "ipython3",
   "version": "3.8.8"
  }
 },
 "nbformat": 4,
 "nbformat_minor": 2
}
